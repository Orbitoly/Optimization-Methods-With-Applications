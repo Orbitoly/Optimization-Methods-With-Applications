{
 "cells": [
  {
   "cell_type": "code",
   "execution_count": 2,
   "metadata": {},
   "outputs": [],
   "source": [
    "import numpy as np\n",
    "\n"
   ]
  },
  {
   "cell_type": "code",
   "execution_count": null,
   "metadata": {},
   "outputs": [],
   "source": [
    "def f(x,mu):\n",
    "    return ((x[0]+x[1])**2 - 10*(x[0]+x[1]) + mu * w(penalty(3*x[0] + x[1] - 6)) + penalty(np.max(0,x[0]**2+x[1]**2-5)) + penalty(np.max(0,-x[0])))\n",
    "\n",
    "def penalty(x):\n",
    "    return x**2\n",
    "\n",
    "def armijo_linesearch():\n",
    "    pass\n",
    "\n",
    "def SD_penalty(mu):\n",
    "    for mu_i in mu:\n",
    "        f_mu_i = \n",
    "\n",
    "SD_penalty([0.01,0.1,1,10,100])"
   ]
  }
 ],
 "metadata": {
  "kernelspec": {
   "display_name": "Python 3.9.0 64-bit",
   "language": "python",
   "name": "python3"
  },
  "language_info": {
   "codemirror_mode": {
    "name": "ipython",
    "version": 3
   },
   "file_extension": ".py",
   "mimetype": "text/x-python",
   "name": "python",
   "nbconvert_exporter": "python",
   "pygments_lexer": "ipython3",
   "version": "3.9.0"
  },
  "orig_nbformat": 4,
  "vscode": {
   "interpreter": {
    "hash": "aee8b7b246df8f9039afb4144a1f6fd8d2ca17a180786b69acc140d282b71a49"
   }
  }
 },
 "nbformat": 4,
 "nbformat_minor": 2
}
